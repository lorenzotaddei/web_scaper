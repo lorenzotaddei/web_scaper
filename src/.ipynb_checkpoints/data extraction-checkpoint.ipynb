{
 "cells": [
  {
   "cell_type": "markdown",
   "id": "3ae0ca3b",
   "metadata": {},
   "source": [
    "# Collecting the links"
   ]
  },
  {
   "cell_type": "markdown",
   "id": "2e688835",
   "metadata": {},
   "source": [
    "-----------\n",
    "##### Loading packages"
   ]
  },
  {
   "cell_type": "code",
   "execution_count": 1,
   "id": "00c03532",
   "metadata": {},
   "outputs": [],
   "source": [
    "# requires to have selenium and  webdriver_manager installed\n",
    "\n",
    "# Load packages\n",
    "from selenium import webdriver\n",
    "from selenium.webdriver.chrome.options import Options\n",
    "from webdriver_manager.chrome import ChromeDriverManager\n",
    "from bs4 import BeautifulSoup\n",
    "import json\n",
    "import time\n",
    "import csv\n",
    "import pandas as pd\n",
    "import numpy as np"
   ]
  },
  {
   "cell_type": "markdown",
   "id": "98422446",
   "metadata": {},
   "source": [
    "-----------\n",
    "##### Navigating to bol.com"
   ]
  },
  {
   "cell_type": "code",
   "execution_count": 12,
   "id": "0a754988",
   "metadata": {
    "scrolled": true
   },
   "outputs": [
    {
     "name": "stderr",
     "output_type": "stream",
     "text": [
      "C:\\Users\\Admin-HP\\AppData\\Local\\Temp\\ipykernel_31904\\2494821642.py:2: DeprecationWarning: executable_path has been deprecated, please pass in a Service object\n",
      "  driver = webdriver.Chrome(ChromeDriverManager().install())\n"
     ]
    }
   ],
   "source": [
    "# Start Chrome\n",
    "driver = webdriver.Chrome(ChromeDriverManager().install())\n",
    "\n",
    "# navigating to bol.com\n",
    "url = \"https://www.bol.com/nl/nl/l/ebook-in-baby-en-peuterboeken/44325/61798+46052+46051+46050+45783+25561+8298+8296+8294+8293+8292+7419/?rating=all\"\n",
    "driver.get(url)\n",
    "time.sleep(3)"
   ]
  },
  {
   "cell_type": "markdown",
   "id": "db3ae95b",
   "metadata": {},
   "source": [
    "-----------\n",
    "##### Seed (links of the e-books) extraction"
   ]
  },
  {
   "cell_type": "code",
   "execution_count": 13,
   "id": "cfd34442",
   "metadata": {},
   "outputs": [
    {
     "name": "stdout",
     "output_type": "stream",
     "text": [
      "There are 45 navigation pages\n",
      "Every page has 24 e-books\n",
      "Total e-books scraped 1080\n"
     ]
    }
   ],
   "source": [
    "base_url = 'https://www.bol.com/nl/nl/l/ebook-in-baby-en-peuterboeken/44325/61798+46052+46051+46050+45783+25561+8298+8296+8294+8293+8292+7419/?page=1&rating=all'\n",
    "url = base_url\n",
    "driver.get(url)\n",
    "time.sleep(1)\n",
    "soup = BeautifulSoup(driver.page_source)\n",
    "\n",
    "# extracting link from the first page\n",
    "def get_url(base_url = 'https://www.bol.com/nl/nl/l/ebook-in-baby-en-peuterboeken/44325/61798+46052+46051+46050+45783+25561+8298+8296+8294+8293+8292+7419/?page=1&rating=all'):\n",
    "    seed = []    \n",
    "    for item in soup.find_all(\"a\",{\"data-test\":\"product-title\"}):\n",
    "        seed.append(item.get('href'))\n",
    "    return(seed)  \n",
    "links=get_url()\n",
    "pages = soup.find_all(\"a\",{\"class\":\"js_pagination_item\"})[-1].get_text()\n",
    "\n",
    "print (str('There are'), int(pages) , str('navigation pages'))\n",
    "print (str('Every page has'), len(links), str('e-books'))\n",
    "print (str('Total e-books scraped'), len(links)*int(pages))"
   ]
  },
  {
   "cell_type": "code",
   "execution_count": 15,
   "id": "443665f9",
   "metadata": {},
   "outputs": [],
   "source": [
    "# function that iterates through pages \n",
    "def get_url(base_url = 'https://www.bol.com/nl/nl/l/ebook-in-baby-en-peuterboeken/44325/61798+46052+46051+46050+45783+25561+8298+8296+8294+8293+8292+7419/?page=1&rating=all',pages =20):\n",
    "    url = base_url\n",
    "    counter = 1\n",
    "    driver.get(url)\n",
    "    time.sleep(1)\n",
    "    soup = BeautifulSoup(driver.page_source)\n",
    "    seed = []\n",
    "    for page in range(pages):\n",
    "        for item in soup.find_all(\"a\",{\"data-test\":\"product-title\"}):\n",
    "            seed.append( 'https://www.bol.com' + str(item.get('href')))\n",
    "        print('printing page '+str(counter))\n",
    "        try:\n",
    "            counter= counter + 1\n",
    "            url= 'https://www.bol.com/nl/nl/l/ebook-in-baby-en-peuterboeken/44325/61798+46052+46051+46050+45783+25561+8298+8296+8294+8293+8292+7419/?page='+ str(counter)+'&rating=all'\n",
    "            driver.get(url)\n",
    "            time.sleep(1)\n",
    "            soup = BeautifulSoup(driver.page_source)\n",
    "            # something that block could be added\n",
    "        except:\n",
    "            break\n",
    "\n",
    "    return(seed) "
   ]
  },
  {
   "cell_type": "code",
   "execution_count": 16,
   "id": "5db453c4",
   "metadata": {},
   "outputs": [
    {
     "name": "stdout",
     "output_type": "stream",
     "text": [
      "printing page 1\n",
      "printing page 2\n",
      "printing page 3\n",
      "printing page 4\n",
      "printing page 5\n",
      "printing page 6\n",
      "printing page 7\n",
      "printing page 8\n",
      "printing page 9\n",
      "printing page 10\n",
      "printing page 11\n",
      "printing page 12\n",
      "printing page 13\n",
      "printing page 14\n",
      "printing page 15\n",
      "printing page 16\n",
      "printing page 17\n",
      "printing page 18\n",
      "printing page 19\n",
      "printing page 20\n",
      "printing page 21\n",
      "printing page 22\n",
      "printing page 23\n",
      "printing page 24\n",
      "printing page 25\n",
      "printing page 26\n",
      "printing page 27\n",
      "printing page 28\n",
      "printing page 29\n",
      "printing page 30\n",
      "printing page 31\n",
      "printing page 32\n",
      "printing page 33\n",
      "printing page 34\n",
      "printing page 35\n",
      "printing page 36\n",
      "printing page 37\n",
      "printing page 38\n",
      "printing page 39\n",
      "printing page 40\n",
      "printing page 41\n",
      "printing page 42\n",
      "printing page 43\n",
      "printing page 44\n",
      "printing page 45\n"
     ]
    }
   ],
   "source": [
    "base_url = 'https://www.bol.com/nl/nl/l/ebook-in-baby-en-peuterboeken/44325/61798+46052+46051+46050+45783+25561+8298+8296+8294+8293+8292+7419/?page=1&rating=all'\n",
    "url = base_url\n",
    "counter = 1\n",
    "driver.get(url)\n",
    "time.sleep(1)\n",
    "soup = BeautifulSoup(driver.page_source)\n",
    "\n",
    "# generating the seed\n",
    "max_pages = int(soup.find_all(\"a\",{\"class\":\"js_pagination_item\"})[-1].get_text())\n",
    "links=get_url(pages = max_pages)"
   ]
  },
  {
   "cell_type": "markdown",
   "id": "c0c8294c",
   "metadata": {},
   "source": [
    "------------------ \n",
    "##### save the seeds in csv"
   ]
  },
  {
   "cell_type": "code",
   "execution_count": 17,
   "id": "a61c5f56",
   "metadata": {},
   "outputs": [],
   "source": [
    "header = ['e-book link']\n",
    "with open('../data/seed.csv', 'w', encoding='UTF8', newline='') as f:\n",
    "    writer = csv.writer(f)\n",
    "    writer.writerow(header)\n",
    "    for link in links:\n",
    "        writer.writerows([[link]])\n",
    "    "
   ]
  },
  {
   "cell_type": "markdown",
   "id": "45d5ea46",
   "metadata": {},
   "source": [
    "# Data collection"
   ]
  },
  {
   "cell_type": "markdown",
   "id": "381ead9f",
   "metadata": {},
   "source": [
    "------------------ \n",
    "##### open the seeds in csv"
   ]
  },
  {
   "cell_type": "code",
   "execution_count": 24,
   "id": "74db1c2a",
   "metadata": {},
   "outputs": [],
   "source": [
    "links =[]\n",
    "with open('../data/seed.csv', newline='') as csvfile:\n",
    "    reader = csv.DictReader(csvfile)\n",
    "    for row in reader:\n",
    "        links.append(row['e-book link'])\n"
   ]
  },
  {
   "cell_type": "markdown",
   "id": "b8ac1dd5",
   "metadata": {},
   "source": [
    "---------------\n",
    "##### collecting data"
   ]
  },
  {
   "cell_type": "markdown",
   "id": "62637b69",
   "metadata": {},
   "source": [
    "this function extract\n",
    "- title \n",
    "- Price (of the paper version)"
   ]
  },
  {
   "cell_type": "code",
   "execution_count": null,
   "id": "e9831ba2",
   "metadata": {},
   "outputs": [],
   "source": [
    "# this chunk collects title and price of the paper version\n",
    "links_sample=links[0:7]\n",
    "data=[]\n",
    "for link in links_sample:\n",
    "    url = link\n",
    "    driver.get(url)\n",
    "    soup = BeautifulSoup(driver.page_source)\n",
    "    dictio= {'title':soup.find('span', {'data-test':\"title\"}).get_text(),\n",
    "             'price':soup.find(class_='promo-price').get_text().replace('\\n  ','.')[:-1]\n",
    "            }\n",
    "    data.append(dictio)\n",
    "data"
   ]
  },
  {
   "cell_type": "code",
   "execution_count": 83,
   "id": "b14d6a2d",
   "metadata": {},
   "outputs": [
    {
     "name": "stdout",
     "output_type": "stream",
     "text": [
      "The average is 6.4980000000000055\n",
      "The minimum is 0.99\n",
      "The maximum is 9.99\n"
     ]
    }
   ],
   "source": [
    "# summary regarding the price of the paper version\n",
    "df = pd.DataFrame.from_dict(data)\n",
    "clean_df=df.dropna(axis=0)\n",
    "clean_df = clean_df.astype({'price':'float'})\n",
    "print('The average is '+str(clean_df['price'].mean()))\n",
    "print('The minimum is '+str(df['price'].min()))\n",
    "print('The maximum is '+str(df['price'].max()))"
   ]
  },
  {
   "cell_type": "markdown",
   "id": "f14c4927",
   "metadata": {},
   "source": [
    "-------------------\n",
    "The chunk below collects\n",
    "- title\n",
    "- price of the e-book\n",
    "- number of pages (of the paper version)\n",
    "- other existing versions of the book"
   ]
  },
  {
   "cell_type": "code",
   "execution_count": 21,
   "id": "c0c726a5",
   "metadata": {},
   "outputs": [
    {
     "data": {
      "text/plain": [
       "[{'title': 'Kikker en het vogeltje',\n",
       "  'price': 16.99,\n",
       "  'purchase options': 3,\n",
       "  'number of pages': 32.0},\n",
       " {'title': 'Kikker in de kou',\n",
       "  'price': 16.99,\n",
       "  'purchase options': 3,\n",
       "  'number of pages': 32.0},\n",
       " {'title': 'Het grote boek van Saskia en Jeroen',\n",
       "  'price': 4.99,\n",
       "  'purchase options': 2,\n",
       "  'number of pages': 'no hardcover'},\n",
       " {'title': 'Minoes',\n",
       "  'price': 21.98,\n",
       "  'purchase options': 5,\n",
       "  'number of pages': 155.0},\n",
       " {'title': 'Dikkie Dik -  Bundel blauw',\n",
       "  'price': 2.99,\n",
       "  'purchase options': 2,\n",
       "  'number of pages': 'no hardcover'},\n",
       " {'title': 'Jip en Janneke er is er een jarig',\n",
       "  'price': 8.99,\n",
       "  'purchase options': 2,\n",
       "  'number of pages': 32.0},\n",
       " {'title': 'Takkie',\n",
       "  'price': 9.99,\n",
       "  'purchase options': 2,\n",
       "  'number of pages': 48.0}]"
      ]
     },
     "execution_count": 21,
     "metadata": {},
     "output_type": "execute_result"
    }
   ],
   "source": [
    "links_sample=links[0:7]\n",
    "data=[]\n",
    "for link in links_sample:\n",
    "    url = link\n",
    "    driver.get(url)\n",
    "    soup = BeautifulSoup(driver.page_source)\n",
    "    try:\n",
    "        hardcover = soup.find_all(\"div\",{\"class\":\"feature-options feature-options--btns\"})\n",
    "        n_options=len(hardcover[0]('a'))\n",
    "        #hard=hardcover[0]('a')[1].get('href')\n",
    "\n",
    "        for option in soup.find_all(\"div\",{\"class\":\"feature-options feature-options--btns\"})[0]('a'):\n",
    "            if 'hard' in str(option):\n",
    "                hardcover_link = 'https://www.bol.com' + str(option.get('href'))\n",
    "                driver.get(hardcover_link)\n",
    "                soup = BeautifulSoup(driver.page_source)\n",
    "                for info_bar_hard in soup.find_all(\"ul\",{\"class\":\"product-small-specs product-small-specs--large\"})[0]('li'):\n",
    "                    if 'pagin' in info_bar_hard.get_text():\n",
    "                        number_pager_hardcover = float(info_bar_hard.get_text().replace(\" pagina's\", '').replace(\"\\n\", '').strip())\n",
    "                    else:\n",
    "                        0\n",
    "            else :\n",
    "                number_pager_hardcover= 'no hardcover'\n",
    "    except:\n",
    "        number_pager_hardcover= 'no hardcover'\n",
    "        n_options = 'no other options'\n",
    "\n",
    "    dictio= {'title':soup.find('span', {'data-test':\"title\"}).get_text(),\n",
    "             'price':float(soup.find(class_='promo-price').get_text().replace('\\n  ','.')[:-1]),\n",
    "             'purchase options': n_options,\n",
    "             'number of pages': number_pager_hardcover\n",
    "            }\n",
    "    data.append(dictio)\n",
    "data"
   ]
  },
  {
   "cell_type": "markdown",
   "id": "7f41563a",
   "metadata": {},
   "source": [
    "-------------------\n",
    "The chunk below collects\n",
    "- title\n",
    "- price of the e-book\n",
    "- number of pages (of the hardcover version)\n",
    "- number of pages (of the paper back version)\n",
    "- other existing versions of the book"
   ]
  },
  {
   "cell_type": "code",
   "execution_count": 22,
   "id": "b4dfc9e8",
   "metadata": {
    "scrolled": true
   },
   "outputs": [
    {
     "name": "stdout",
     "output_type": "stream",
     "text": [
      "https://www.bol.com/nl/nl/p/kikker-en-het-vogeltje/9200000022229587/ extracted\n",
      "https://www.bol.com/nl/nl/p/kikker-in-de-kou/9200000022076749/ extracted\n",
      "https://www.bol.com/nl/nl/p/het-grote-boek-van-saskia-en-jeroen/9200000027131643/ extracted\n",
      "https://www.bol.com/nl/nl/p/minoes/9200000009952620/ extracted\n",
      "https://www.bol.com/nl/nl/p/dikkie-dik-bundel-blauw/9200000015498008/ extracted\n",
      "https://www.bol.com/nl/nl/p/jip-en-janneke-er-is-er-een-jarig/9200000011127429/ extracted\n",
      "https://www.bol.com/nl/nl/p/takkie/9200000049684680/ extracted\n",
      "7 books scraped\n"
     ]
    }
   ],
   "source": [
    "links_sample=links[0:7]\n",
    "data=[]\n",
    "for link in links_sample:\n",
    "    url = link\n",
    "    driver.get(url)\n",
    "    soup = BeautifulSoup(driver.page_source)\n",
    "    price_ebook = float(soup.find(class_='promo-price').get_text().replace('\\n  ','.').replace('-','00')[:-1])\n",
    "    title = soup.find('span', {'data-test':\"title\"}).get_text()\n",
    "    try:\n",
    "        hardcover = soup.find_all(\"div\",{\"class\":\"feature-options feature-options--btns\"})\n",
    "        n_options=len(hardcover[0]('a'))\n",
    "        #hard=hardcover[0]('a')[1].get('href')\n",
    "\n",
    "        for option in soup.find_all(\"div\",{\"class\":\"feature-options feature-options--btns\"})[0]('a'):\n",
    "            if 'ardcover' in str(option):\n",
    "                hardcover_link = 'https://www.bol.com' + str(option.get('href'))\n",
    "                driver.get(hardcover_link)\n",
    "                soup = BeautifulSoup(driver.page_source)\n",
    "                for info_bar_hard in soup.find_all(\"ul\",{\"class\":\"product-small-specs product-small-specs--large\"})[0]('li'):\n",
    "                    if 'pagin' in info_bar_hard.get_text():\n",
    "                        number_pages_hardcover = int(info_bar_hard.get_text().replace(\" pagina's\", '').replace(\"\\n\", '').strip())\n",
    "                    else:\n",
    "                        0\n",
    "            elif 'aperback' in str(option):\n",
    "                paperback_link = 'https://www.bol.com' + str(option.get('href'))\n",
    "                driver.get(paperback_link)\n",
    "                soup = BeautifulSoup(driver.page_source)\n",
    "                for info_bar_paper in soup.find_all(\"ul\",{\"class\":\"product-small-specs product-small-specs--large\"})[0]('li'):\n",
    "                    if 'pagin' in info_bar_paper.get_text():\n",
    "                        number_pages_paperback = int(info_bar_paper.get_text().replace(\" pagina's\", '').replace(\"\\n\", '').strip())\n",
    "                    else:\n",
    "                        0\n",
    "            else:\n",
    "                number_pages_paperback = 'no paperback'\n",
    "                number_pages_hardcover = 'no hardcover'\n",
    "    except:\n",
    "        number_pages_hardcover= 'no hardcover'\n",
    "        number_pages_paperback = 'no paperback'\n",
    "        n_options = 'no other options'\n",
    "    \n",
    "\n",
    "    dictio= {'title': title,\n",
    "             'price ebook': price_ebook,\n",
    "             'purchase options': n_options,\n",
    "             'number of pages (hardcover)': number_pages_hardcover,\n",
    "             'number of pages (paperback)' : number_pages_paperback\n",
    "            }\n",
    "    data.append(dictio)\n",
    "    print (str(link)+' extracted')\n",
    "print(len(data),str('books scraped'))"
   ]
  },
  {
   "cell_type": "markdown",
   "id": "7622dd65",
   "metadata": {},
   "source": [
    "---------\n",
    "##### most updated scraper\n",
    "This code extract\n",
    "- title\n",
    "- price of the e-book\n",
    "- number of pages (of the hardcover version)\n",
    "- number of pages (of the paper back version)\n",
    "- other existing versions of the book\n",
    "- ratings\n",
    "- language of the book"
   ]
  },
  {
   "cell_type": "code",
   "execution_count": 23,
   "id": "9cb60bca",
   "metadata": {
    "scrolled": true
   },
   "outputs": [
    {
     "name": "stdout",
     "output_type": "stream",
     "text": [
      "https://www.bol.com/nl/nl/p/kikker-en-het-vogeltje/9200000022229587/ extracted\n",
      "https://www.bol.com/nl/nl/p/kikker-in-de-kou/9200000022076749/ extracted\n",
      "https://www.bol.com/nl/nl/p/het-grote-boek-van-saskia-en-jeroen/9200000027131643/ extracted\n",
      "https://www.bol.com/nl/nl/p/minoes/9200000009952620/ extracted\n",
      "https://www.bol.com/nl/nl/p/dikkie-dik-bundel-blauw/9200000015498008/ extracted\n",
      "https://www.bol.com/nl/nl/p/jip-en-janneke-er-is-er-een-jarig/9200000011127429/ extracted\n",
      "https://www.bol.com/nl/nl/p/takkie/9200000049684680/ extracted\n",
      "https://www.bol.com/nl/nl/p/de-voorleesboot/9200000084637836/ extracted\n"
     ]
    },
    {
     "ename": "AttributeError",
     "evalue": "'NoneType' object has no attribute 'text'",
     "output_type": "error",
     "traceback": [
      "\u001b[1;31m---------------------------------------------------------------------------\u001b[0m",
      "\u001b[1;31mAttributeError\u001b[0m                            Traceback (most recent call last)",
      "\u001b[1;32m~\\AppData\\Local\\Temp\\ipykernel_31904\\4080698143.py\u001b[0m in \u001b[0;36m<module>\u001b[1;34m\u001b[0m\n\u001b[0;32m      6\u001b[0m     \u001b[0mprice_ebook\u001b[0m \u001b[1;33m=\u001b[0m \u001b[0mfloat\u001b[0m\u001b[1;33m(\u001b[0m\u001b[0msoup\u001b[0m\u001b[1;33m.\u001b[0m\u001b[0mfind\u001b[0m\u001b[1;33m(\u001b[0m\u001b[0mclass_\u001b[0m\u001b[1;33m=\u001b[0m\u001b[1;34m'promo-price'\u001b[0m\u001b[1;33m)\u001b[0m\u001b[1;33m.\u001b[0m\u001b[0mget_text\u001b[0m\u001b[1;33m(\u001b[0m\u001b[1;33m)\u001b[0m\u001b[1;33m.\u001b[0m\u001b[0mreplace\u001b[0m\u001b[1;33m(\u001b[0m\u001b[1;34m'\\n  '\u001b[0m\u001b[1;33m,\u001b[0m\u001b[1;34m'.'\u001b[0m\u001b[1;33m)\u001b[0m\u001b[1;33m.\u001b[0m\u001b[0mreplace\u001b[0m\u001b[1;33m(\u001b[0m\u001b[1;34m'-'\u001b[0m\u001b[1;33m,\u001b[0m\u001b[1;34m'00'\u001b[0m\u001b[1;33m)\u001b[0m\u001b[1;33m[\u001b[0m\u001b[1;33m:\u001b[0m\u001b[1;33m-\u001b[0m\u001b[1;36m1\u001b[0m\u001b[1;33m]\u001b[0m\u001b[1;33m)\u001b[0m\u001b[1;33m\u001b[0m\u001b[1;33m\u001b[0m\u001b[0m\n\u001b[0;32m      7\u001b[0m     \u001b[0mtitle\u001b[0m \u001b[1;33m=\u001b[0m \u001b[0msoup\u001b[0m\u001b[1;33m.\u001b[0m\u001b[0mfind\u001b[0m\u001b[1;33m(\u001b[0m\u001b[1;34m'span'\u001b[0m\u001b[1;33m,\u001b[0m \u001b[1;33m{\u001b[0m\u001b[1;34m'data-test'\u001b[0m\u001b[1;33m:\u001b[0m\u001b[1;34m\"title\"\u001b[0m\u001b[1;33m}\u001b[0m\u001b[1;33m)\u001b[0m\u001b[1;33m.\u001b[0m\u001b[0mget_text\u001b[0m\u001b[1;33m(\u001b[0m\u001b[1;33m)\u001b[0m\u001b[1;33m\u001b[0m\u001b[1;33m\u001b[0m\u001b[0m\n\u001b[1;32m----> 8\u001b[1;33m     \u001b[0mlanguage\u001b[0m \u001b[1;33m=\u001b[0m \u001b[0msoup\u001b[0m\u001b[1;33m.\u001b[0m\u001b[0mfind\u001b[0m\u001b[1;33m(\u001b[0m\u001b[1;34m'a'\u001b[0m\u001b[1;33m,\u001b[0m \u001b[1;33m{\u001b[0m\u001b[1;34m'data-analytics-tag'\u001b[0m\u001b[1;33m:\u001b[0m\u001b[1;34m\"language\"\u001b[0m\u001b[1;33m}\u001b[0m\u001b[1;33m)\u001b[0m\u001b[1;33m.\u001b[0m\u001b[0mtext\u001b[0m\u001b[1;33m.\u001b[0m\u001b[0mreplace\u001b[0m\u001b[1;33m(\u001b[0m\u001b[1;34m'Taal:'\u001b[0m\u001b[1;33m,\u001b[0m \u001b[1;34m''\u001b[0m\u001b[1;33m)\u001b[0m\u001b[1;33m.\u001b[0m\u001b[0mstrip\u001b[0m\u001b[1;33m(\u001b[0m\u001b[1;33m)\u001b[0m\u001b[1;33m\u001b[0m\u001b[1;33m\u001b[0m\u001b[0m\n\u001b[0m\u001b[0;32m      9\u001b[0m     \u001b[1;32mfor\u001b[0m \u001b[0mrow\u001b[0m \u001b[1;32min\u001b[0m \u001b[0msoup\u001b[0m\u001b[1;33m.\u001b[0m\u001b[0mfind_all\u001b[0m\u001b[1;33m(\u001b[0m\u001b[0mclass_\u001b[0m\u001b[1;33m=\u001b[0m \u001b[1;34m\"specs__row\"\u001b[0m\u001b[1;33m)\u001b[0m\u001b[1;33m:\u001b[0m\u001b[1;33m\u001b[0m\u001b[1;33m\u001b[0m\u001b[0m\n\u001b[0;32m     10\u001b[0m         \u001b[1;32mif\u001b[0m \u001b[1;34m'Leeftijd'\u001b[0m \u001b[1;32min\u001b[0m \u001b[0mrow\u001b[0m\u001b[1;33m.\u001b[0m\u001b[0mget_text\u001b[0m\u001b[1;33m(\u001b[0m\u001b[1;33m)\u001b[0m\u001b[1;33m:\u001b[0m \u001b[1;31m#Leeftijd means age in dutch\u001b[0m\u001b[1;33m\u001b[0m\u001b[1;33m\u001b[0m\u001b[0m\n",
      "\u001b[1;31mAttributeError\u001b[0m: 'NoneType' object has no attribute 'text'"
     ]
    }
   ],
   "source": [
    "data=[]\n",
    "for link in links:\n",
    "    url = link\n",
    "    driver.get(url)\n",
    "    soup = BeautifulSoup(driver.page_source)\n",
    "    price_ebook = float(soup.find(class_='promo-price').get_text().replace('\\n  ','.').replace('-','00')[:-1])\n",
    "    title = soup.find('span', {'data-test':\"title\"}).get_text()\n",
    "    language = soup.find('a', {'data-analytics-tag':\"language\"}).text.replace('Taal:', '').strip()\n",
    "    for row in soup.find_all(class_= \"specs__row\"):\n",
    "        if 'Leeftijd' in row.get_text(): #Leeftijd means age in dutch\n",
    "            age = row.find(class_= \"specs__value\").get_text().replace('\\n','').replace('                      ','').strip()\n",
    "        else:\n",
    "            0\n",
    "    try:\n",
    "        hardcover = soup.find_all(\"div\",{\"class\":\"feature-options feature-options--btns\"})\n",
    "        n_options=len(hardcover[0]('a'))\n",
    "        #hard=hardcover[0]('a')[1].get('href')\n",
    "\n",
    "        for option in soup.find_all(\"div\",{\"class\":\"feature-options feature-options--btns\"})[0]('a'):\n",
    "            if 'ardcover' in str(option):\n",
    "                hardcover_link = 'https://www.bol.com' + str(option.get('href'))\n",
    "                driver.get(hardcover_link)\n",
    "                soup = BeautifulSoup(driver.page_source)\n",
    "                for info_bar_hard in soup.find_all(\"ul\",{\"class\":\"product-small-specs product-small-specs--large\"})[0]('li'):\n",
    "                    if 'pagin' in info_bar_hard.get_text():\n",
    "                        number_pages_hardcover = int(info_bar_hard.get_text().replace(\" pagina's\", '').replace(\"\\n\", '').strip())\n",
    "                    else:\n",
    "                        0\n",
    "            elif 'aperback' in str(option):\n",
    "                paperback_link = 'https://www.bol.com' + str(option.get('href'))\n",
    "                driver.get(paperback_link)\n",
    "                soup = BeautifulSoup(driver.page_source)\n",
    "                for info_bar_paper in soup.find_all(\"ul\",{\"class\":\"product-small-specs product-small-specs--large\"})[0]('li'):\n",
    "                    if 'pagin' in info_bar_paper.get_text():\n",
    "                        number_pages_paperback = int(info_bar_paper.get_text().replace(\" pagina's\", '').replace(\"\\n\", '').strip())\n",
    "                    else:\n",
    "                        0\n",
    "            else:\n",
    "                number_pages_paperback = 'no paperback'\n",
    "                number_pages_hardcover = 'no hardcover'\n",
    "    except:\n",
    "        number_pages_hardcover= 'no hardcover'\n",
    "        number_pages_paperback = 'no paperback'\n",
    "        n_options = 'no other options'\n",
    "    try:\n",
    "        reviews = soup.find('div', {'data-test':\"rating-suffix\"}).get_text()\n",
    "    except:\n",
    "        reviews = 'no reviews'\n",
    "        \n",
    "        \n",
    "    \n",
    "\n",
    "    dictio= {'title': title,\n",
    "             'price ebook': price_ebook,\n",
    "             'purchase options': n_options,\n",
    "             'number of pages (hardcover)': number_pages_hardcover,\n",
    "             'number of pages (paperback)' : number_pages_paperback,\n",
    "             'reviews': reviews,\n",
    "             'language':language,\n",
    "             'age': age\n",
    "            }\n",
    "    data.append(dictio)\n",
    "    print (str(link)+' extracted')\n",
    "print(len(data),str('books scraped'))\n",
    "data"
   ]
  },
  {
   "cell_type": "markdown",
   "id": "cf6e0a3d",
   "metadata": {},
   "source": [
    "----------\n",
    "##### saving output in json"
   ]
  },
  {
   "cell_type": "code",
   "execution_count": 22,
   "id": "630e8356",
   "metadata": {},
   "outputs": [],
   "source": [
    "with open(\"../data/dataset\", \"w\") as f:\n",
    "    json.dump(data, f, indent=4)"
   ]
  }
 ],
 "metadata": {
  "kernelspec": {
   "display_name": "Python 3 (ipykernel)",
   "language": "python",
   "name": "python3"
  },
  "language_info": {
   "codemirror_mode": {
    "name": "ipython",
    "version": 3
   },
   "file_extension": ".py",
   "mimetype": "text/x-python",
   "name": "python",
   "nbconvert_exporter": "python",
   "pygments_lexer": "ipython3",
   "version": "3.9.13"
  }
 },
 "nbformat": 4,
 "nbformat_minor": 5
}
